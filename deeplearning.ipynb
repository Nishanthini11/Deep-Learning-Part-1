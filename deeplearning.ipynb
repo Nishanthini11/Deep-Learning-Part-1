{
 "cells": [
  {
   "cell_type": "code",
   "execution_count": 7,
   "metadata": {},
   "outputs": [
    {
     "name": "stdout",
     "output_type": "stream",
     "text": [
      "Log in to view\n"
     ]
    }
   ],
   "source": [
    "import requests\n",
    "from bs4 import BeautifulSoup\n",
    "import re\n",
    "import csv\n",
    "# URL of the Wikihow page to scrape\n",
    "url = 'https://www.wikihow.com/Special: Randomizer'\n",
    " # Send an HTTP request to the URL and receive the HTML content\n",
    "response = requests.get(url)\n",
    "html_content = response.content\n",
    "# Parse the HTML content using BeautifulSoup\n",
    "soup = BeautifulSoup(html_content, 'html.parser')\n",
    "article_title = soup.find('title').text.strip()\n",
    "print(article_title)\n"
   ]
  },
  {
   "cell_type": "code",
   "execution_count": 8,
   "metadata": {},
   "outputs": [
    {
     "name": "stdout",
     "output_type": "stream",
     "text": [
      "Log in to view\n"
     ]
    }
   ],
   "source": [
    "article_title = soup.find('title').text.strip()\n",
    "print(article_title)"
   ]
  },
  {
   "cell_type": "code",
   "execution_count": 9,
   "metadata": {},
   "outputs": [],
   "source": [
    "#Extract the subheadings and paragraphs using the appropriate HTML tags\n",
    "subheadings = []\n",
    "paragraphs = []\n",
    "steps = soup.find_all('div', {'class': 'step'})\n",
    "for step in steps:\n",
    "    subheading_element = step.find('b')\n",
    "    if (subheading_element is not None):\n",
    "        subheading_text = subheading_element.text.strip().replace('\\n','')\n",
    "        subheading_text = subheading_text.encode('ascii', errors=\"ignore\").decode()\n",
    "        subheading_text = re.sub(r\",\", subheading_text)\n",
    "        print(subheading_text)\n",
    "        subheadings.append(subheading_text)\n",
    "        \n",
    "        #this block removes titles and extra links\n",
    "        subheading_element.extract()\n",
    "        for span_tag in step.find_all('span'):\n",
    "            span_tag.extract()\n",
    "        paragraph_text = step.text.strip().replace('\\n','').replace('','')\n",
    "        paragraph_text = paragraph_text.encode(\"ascii\", errors='ignore').decode()\n",
    "        paragraph_text = re.sub(\",\", paragraph_text) \n",
    "        print(paragraph_text)\n",
    "        paragraphs.append(paragraph_text)\n",
    "\n",
    "if (len(subheadings)):\n",
    "    with open(\"/kaggle/working/wikiHow.csv\", mode='a', newline=\",\", encoding=\"utf-8\") as csv_file:\n",
    "        writer = csv.writer(csv_file) \n",
    "    for i in range(len(subheadings)):\n",
    "        writer.writerow([article_title, subheadings[i], paragraphs[i]])\n"
   ]
  },
  {
   "cell_type": "code",
   "execution_count": 10,
   "metadata": {},
   "outputs": [],
   "source": [
    "max_input_length = 1024\n",
    "max_output_length = 64\n",
    "batch_size = 16\n",
    "def process_data_to_model_inputs(batch):\n",
    "#tokenize the inputs and labels\n",
    "    inputs = tokenizer(\n",
    "        batch[\"paragraph\"],\n",
    "        padding=\"max length\", \n",
    "        truncation=True,\n",
    "        max_length=max_input_length,\n",
    "\t)\n",
    "    outputs = tokenizer(\n",
    "\t    batch[\"heading\"],\n",
    "        padding=\"max length\",\n",
    "        truncation=True,\n",
    "        max_length=max_output_length,\n",
    "\t)\n",
    "    batch[\"input_ids\"] = inputs.input_ids\n",
    "    batch[\"attention_mask\"] = inputs.attention_mask\n",
    "    \n",
    "    #create 0 global_attention_mask lists\n",
    "    batch[\"global_attention_mask\"] = len(batch[\"input_ids\"]) * [\n",
    "    [0 for _ in range(len(batch[\"input_ids\"][0]))]\n",
    "    ]\n",
    "\n",
    "    #since above lists are references, the following line changes the 0 index for all samples\n",
    "    batch[\"global_attention_mask\"][0][0] = 1\n",
    "    batch[\"labels\"] = outputs.input_ids\n",
    "    #We have to make sure that the PAD token is ignored\n",
    "    batch[\"labels\"] = [ \n",
    "    [-100 if token == tokenizer.pad_token_id else token for token in labels]\n",
    "    for labels in batch[\"labels\"]\n",
    "    ]\n",
    "    return batch\n"
   ]
  }
 ],
 "metadata": {
  "kernelspec": {
   "display_name": "Python 3",
   "language": "python",
   "name": "python3"
  },
  "language_info": {
   "codemirror_mode": {
    "name": "ipython",
    "version": 3
   },
   "file_extension": ".py",
   "mimetype": "text/x-python",
   "name": "python",
   "nbconvert_exporter": "python",
   "pygments_lexer": "ipython3",
   "version": "3.11.5"
  }
 },
 "nbformat": 4,
 "nbformat_minor": 2
}
